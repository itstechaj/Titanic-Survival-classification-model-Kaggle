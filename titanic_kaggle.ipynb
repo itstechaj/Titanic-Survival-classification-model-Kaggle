{
  "nbformat": 4,
  "nbformat_minor": 0,
  "metadata": {
    "colab": {
      "provenance": [],
      "collapsed_sections": []
    },
    "kernelspec": {
      "name": "python3",
      "display_name": "Python 3"
    },
    "language_info": {
      "name": "python"
    }
  },
  "cells": [
    {
      "cell_type": "code",
      "source": [
        "import pandas as pd\n",
        "import numpy as np\n",
        "from matplotlib import pyplot as plt\n",
        "from sklearn.model_selection import train_test_split\n",
        "from sklearn import preprocessing\n",
        "from sklearn.preprocessing import StandardScaler\n"
      ],
      "metadata": {
        "id": "3RvUJuRtSVaI"
      },
      "execution_count": 14,
      "outputs": []
    },
    {
      "cell_type": "code",
      "source": [
        "# function to modify and clean dataframe\n",
        "def preProcessing(orgDf):\n",
        "  df=orgDf.drop([\"Name\",\"Ticket\",\"Fare\",\"Cabin\"],axis=1) #drop these columns\n",
        "  # df=df.drop(np.where(df['Embarked'].isna())[0],axis=0) #drop the rows where the value of Embarked is NaN\n",
        "  df['Sex']=df['Sex'].replace(['male','female'],[0,1]) # convert sex column into 0 and 1\n",
        "  df['Age']=df['Age'].fillna(df['Age'].mean()) # replace NaN values in Age with its sd\n",
        "  # label encoding the Embarked column\n",
        "  lbl_encoder = preprocessing.LabelEncoder()\n",
        "  lbl_encoder.fit(df['Embarked'])\n",
        "  df['Embarked']=lbl_encoder.transform(df['Embarked'])\n",
        "  # df['SibSp']=df['SibSp']+df['Parch']\n",
        "  # df=df.drop('Parch',axis=1)\n",
        "  return df #return the processed dataframe\n",
        "\n",
        "# this function will return np array with tranformed values\n",
        "def scale(x):\n",
        "  sclr=StandardScaler()\n",
        "  return sclr.fit_transform(x)"
      ],
      "metadata": {
        "id": "c2aisTeITDkR"
      },
      "execution_count": 15,
      "outputs": []
    },
    {
      "cell_type": "code",
      "source": [
        "orgDf=pd.read_csv(\"/content/train.csv\")\n",
        "# orgCols=orgDf.columns\n",
        "# orgCols=np.delete(orgCols,[0,3,8,9,10])\n",
        "\n",
        "df=preProcessing(orgDf)\n",
        "#convert df into dataframe using originals columns name\n",
        "# df=pd.DataFrame(df,columns=orgCols)\n",
        "\n",
        "# for practice\n",
        "# splitting the data int0 4:1 ratio\n",
        "# df_train,df_test=train_test_split(df,test_size=0.2,random_state=42)\n",
        "#defining features and labels\n",
        "# x_train,y_train=df_train.drop(['Survived'],axis=1),df_train['Survived']\n",
        "# x_test,y_test=df_test.drop(['Survived'],axis=1),df_test['Survived']\n",
        "\n",
        "#applying standard scalar on x train and x test\n",
        "# x_train=scale(x_train)\n",
        "# x_test=scale(x_test)\n",
        "\n",
        "# for final run\n",
        "x_train,y_train=df.drop(['Survived'],axis=1),df['Survived']\n",
        "x_train=scale(x_train)"
      ],
      "metadata": {
        "id": "VJkq6P1pSgTf"
      },
      "execution_count": 16,
      "outputs": []
    },
    {
      "cell_type": "code",
      "source": [
        "df.head(5)\n",
        "# x_train"
      ],
      "metadata": {
        "colab": {
          "base_uri": "https://localhost:8080/",
          "height": 206
        },
        "id": "Vn9ai8zlqYih",
        "outputId": "a215bceb-b9cd-48aa-cea1-32d0a2eadde5"
      },
      "execution_count": 4,
      "outputs": [
        {
          "output_type": "execute_result",
          "data": {
            "text/plain": [
              "   PassengerId  Survived  Pclass  Sex   Age  SibSp  Parch  Embarked\n",
              "0            1         0       3    0  22.0      1      0         2\n",
              "1            2         1       1    1  38.0      1      0         0\n",
              "2            3         1       3    1  26.0      0      0         2\n",
              "3            4         1       1    1  35.0      1      0         2\n",
              "4            5         0       3    0  35.0      0      0         2"
            ],
            "text/html": [
              "\n",
              "  <div id=\"df-d2e2b4ad-e890-44c7-b8bf-a908993d1ecc\">\n",
              "    <div class=\"colab-df-container\">\n",
              "      <div>\n",
              "<style scoped>\n",
              "    .dataframe tbody tr th:only-of-type {\n",
              "        vertical-align: middle;\n",
              "    }\n",
              "\n",
              "    .dataframe tbody tr th {\n",
              "        vertical-align: top;\n",
              "    }\n",
              "\n",
              "    .dataframe thead th {\n",
              "        text-align: right;\n",
              "    }\n",
              "</style>\n",
              "<table border=\"1\" class=\"dataframe\">\n",
              "  <thead>\n",
              "    <tr style=\"text-align: right;\">\n",
              "      <th></th>\n",
              "      <th>PassengerId</th>\n",
              "      <th>Survived</th>\n",
              "      <th>Pclass</th>\n",
              "      <th>Sex</th>\n",
              "      <th>Age</th>\n",
              "      <th>SibSp</th>\n",
              "      <th>Parch</th>\n",
              "      <th>Embarked</th>\n",
              "    </tr>\n",
              "  </thead>\n",
              "  <tbody>\n",
              "    <tr>\n",
              "      <th>0</th>\n",
              "      <td>1</td>\n",
              "      <td>0</td>\n",
              "      <td>3</td>\n",
              "      <td>0</td>\n",
              "      <td>22.0</td>\n",
              "      <td>1</td>\n",
              "      <td>0</td>\n",
              "      <td>2</td>\n",
              "    </tr>\n",
              "    <tr>\n",
              "      <th>1</th>\n",
              "      <td>2</td>\n",
              "      <td>1</td>\n",
              "      <td>1</td>\n",
              "      <td>1</td>\n",
              "      <td>38.0</td>\n",
              "      <td>1</td>\n",
              "      <td>0</td>\n",
              "      <td>0</td>\n",
              "    </tr>\n",
              "    <tr>\n",
              "      <th>2</th>\n",
              "      <td>3</td>\n",
              "      <td>1</td>\n",
              "      <td>3</td>\n",
              "      <td>1</td>\n",
              "      <td>26.0</td>\n",
              "      <td>0</td>\n",
              "      <td>0</td>\n",
              "      <td>2</td>\n",
              "    </tr>\n",
              "    <tr>\n",
              "      <th>3</th>\n",
              "      <td>4</td>\n",
              "      <td>1</td>\n",
              "      <td>1</td>\n",
              "      <td>1</td>\n",
              "      <td>35.0</td>\n",
              "      <td>1</td>\n",
              "      <td>0</td>\n",
              "      <td>2</td>\n",
              "    </tr>\n",
              "    <tr>\n",
              "      <th>4</th>\n",
              "      <td>5</td>\n",
              "      <td>0</td>\n",
              "      <td>3</td>\n",
              "      <td>0</td>\n",
              "      <td>35.0</td>\n",
              "      <td>0</td>\n",
              "      <td>0</td>\n",
              "      <td>2</td>\n",
              "    </tr>\n",
              "  </tbody>\n",
              "</table>\n",
              "</div>\n",
              "      <button class=\"colab-df-convert\" onclick=\"convertToInteractive('df-d2e2b4ad-e890-44c7-b8bf-a908993d1ecc')\"\n",
              "              title=\"Convert this dataframe to an interactive table.\"\n",
              "              style=\"display:none;\">\n",
              "        \n",
              "  <svg xmlns=\"http://www.w3.org/2000/svg\" height=\"24px\"viewBox=\"0 0 24 24\"\n",
              "       width=\"24px\">\n",
              "    <path d=\"M0 0h24v24H0V0z\" fill=\"none\"/>\n",
              "    <path d=\"M18.56 5.44l.94 2.06.94-2.06 2.06-.94-2.06-.94-.94-2.06-.94 2.06-2.06.94zm-11 1L8.5 8.5l.94-2.06 2.06-.94-2.06-.94L8.5 2.5l-.94 2.06-2.06.94zm10 10l.94 2.06.94-2.06 2.06-.94-2.06-.94-.94-2.06-.94 2.06-2.06.94z\"/><path d=\"M17.41 7.96l-1.37-1.37c-.4-.4-.92-.59-1.43-.59-.52 0-1.04.2-1.43.59L10.3 9.45l-7.72 7.72c-.78.78-.78 2.05 0 2.83L4 21.41c.39.39.9.59 1.41.59.51 0 1.02-.2 1.41-.59l7.78-7.78 2.81-2.81c.8-.78.8-2.07 0-2.86zM5.41 20L4 18.59l7.72-7.72 1.47 1.35L5.41 20z\"/>\n",
              "  </svg>\n",
              "      </button>\n",
              "      \n",
              "  <style>\n",
              "    .colab-df-container {\n",
              "      display:flex;\n",
              "      flex-wrap:wrap;\n",
              "      gap: 12px;\n",
              "    }\n",
              "\n",
              "    .colab-df-convert {\n",
              "      background-color: #E8F0FE;\n",
              "      border: none;\n",
              "      border-radius: 50%;\n",
              "      cursor: pointer;\n",
              "      display: none;\n",
              "      fill: #1967D2;\n",
              "      height: 32px;\n",
              "      padding: 0 0 0 0;\n",
              "      width: 32px;\n",
              "    }\n",
              "\n",
              "    .colab-df-convert:hover {\n",
              "      background-color: #E2EBFA;\n",
              "      box-shadow: 0px 1px 2px rgba(60, 64, 67, 0.3), 0px 1px 3px 1px rgba(60, 64, 67, 0.15);\n",
              "      fill: #174EA6;\n",
              "    }\n",
              "\n",
              "    [theme=dark] .colab-df-convert {\n",
              "      background-color: #3B4455;\n",
              "      fill: #D2E3FC;\n",
              "    }\n",
              "\n",
              "    [theme=dark] .colab-df-convert:hover {\n",
              "      background-color: #434B5C;\n",
              "      box-shadow: 0px 1px 3px 1px rgba(0, 0, 0, 0.15);\n",
              "      filter: drop-shadow(0px 1px 2px rgba(0, 0, 0, 0.3));\n",
              "      fill: #FFFFFF;\n",
              "    }\n",
              "  </style>\n",
              "\n",
              "      <script>\n",
              "        const buttonEl =\n",
              "          document.querySelector('#df-d2e2b4ad-e890-44c7-b8bf-a908993d1ecc button.colab-df-convert');\n",
              "        buttonEl.style.display =\n",
              "          google.colab.kernel.accessAllowed ? 'block' : 'none';\n",
              "\n",
              "        async function convertToInteractive(key) {\n",
              "          const element = document.querySelector('#df-d2e2b4ad-e890-44c7-b8bf-a908993d1ecc');\n",
              "          const dataTable =\n",
              "            await google.colab.kernel.invokeFunction('convertToInteractive',\n",
              "                                                     [key], {});\n",
              "          if (!dataTable) return;\n",
              "\n",
              "          const docLinkHtml = 'Like what you see? Visit the ' +\n",
              "            '<a target=\"_blank\" href=https://colab.research.google.com/notebooks/data_table.ipynb>data table notebook</a>'\n",
              "            + ' to learn more about interactive tables.';\n",
              "          element.innerHTML = '';\n",
              "          dataTable['output_type'] = 'display_data';\n",
              "          await google.colab.output.renderOutput(dataTable, element);\n",
              "          const docLink = document.createElement('div');\n",
              "          docLink.innerHTML = docLinkHtml;\n",
              "          element.appendChild(docLink);\n",
              "        }\n",
              "      </script>\n",
              "    </div>\n",
              "  </div>\n",
              "  "
            ]
          },
          "metadata": {},
          "execution_count": 4
        }
      ]
    },
    {
      "cell_type": "code",
      "source": [
        "from sklearn.linear_model import LogisticRegression\n",
        "from sklearn.tree import DecisionTreeClassifier\n",
        "from sklearn.ensemble import RandomForestClassifier\n",
        "from sklearn.neighbors import KNeighborsClassifier"
      ],
      "metadata": {
        "id": "alHNbPAbfltT"
      },
      "execution_count": 17,
      "outputs": []
    },
    {
      "cell_type": "code",
      "source": [
        "# y_train.head()"
      ],
      "metadata": {
        "id": "cc6_CUpp2dj6"
      },
      "execution_count": 6,
      "outputs": []
    },
    {
      "cell_type": "code",
      "source": [
        "mymodel=LogisticRegression(random_state=0).fit(x_train,y_train)\n",
        "dc_model=DecisionTreeClassifier(random_state=0).fit(x_train,y_train)\n",
        "rf_model=RandomForestClassifier(random_state=0).fit(x_train,y_train)\n",
        "kn_model=KNeighborsClassifier(n_neighbors=6).fit(x_train,y_train)"
      ],
      "metadata": {
        "id": "BCv2ZYoFjteM"
      },
      "execution_count": 18,
      "outputs": []
    },
    {
      "cell_type": "code",
      "source": [
        "# load test_data\n",
        "test_data=pd.read_csv(\"/content/test.csv\")\n",
        "#passenger id\n",
        "pid=pd.DataFrame(test_data['PassengerId'])\n",
        "#cleaning test data\n",
        "test_data=preProcessing(test_data)\n",
        "#scale test data\n",
        "test_data=scale(test_data)"
      ],
      "metadata": {
        "id": "-_FnMTesfyO-"
      },
      "execution_count": 19,
      "outputs": []
    },
    {
      "cell_type": "code",
      "source": [
        "test_result=rf_model.predict(test_data)"
      ],
      "metadata": {
        "id": "3YT_UGnZmSZ7"
      },
      "execution_count": 20,
      "outputs": []
    },
    {
      "cell_type": "code",
      "source": [
        "pid['Survived']=test_result"
      ],
      "metadata": {
        "id": "xClWF1-RnFPi"
      },
      "execution_count": 21,
      "outputs": []
    },
    {
      "cell_type": "code",
      "source": [
        "pid.to_csv(\"result.csv\",index=False)"
      ],
      "metadata": {
        "id": "oabQeP7CnKsR"
      },
      "execution_count": 22,
      "outputs": []
    },
    {
      "cell_type": "code",
      "source": [
        "print(f\"LR : {mymodel.score(x_test,y_test)}\")\n",
        "print(f\"DC : {dc_model.score(x_test,y_test)}\")\n",
        "print(f\"RF : {rf_model.score(x_test,y_test)}\")\n",
        "print(f\"KN : {kn_model.score(x_test,y_test)}\")"
      ],
      "metadata": {
        "id": "yE_dEdsttCZu",
        "colab": {
          "base_uri": "https://localhost:8080/"
        },
        "outputId": "2776ac92-bd99-41ae-fcb3-09382b20a9bf"
      },
      "execution_count": 23,
      "outputs": [
        {
          "output_type": "stream",
          "name": "stdout",
          "text": [
            "LR : 0.8100558659217877\n",
            "DC : 0.9050279329608939\n",
            "RF : 0.9608938547486033\n",
            "KN : 0.8212290502793296\n"
          ]
        }
      ]
    },
    {
      "cell_type": "code",
      "source": [
        "pid.shape"
      ],
      "metadata": {
        "colab": {
          "base_uri": "https://localhost:8080/"
        },
        "id": "qfC8Qre_6Kqa",
        "outputId": "79895d51-c054-4bda-bc72-44a7974bc5b5"
      },
      "execution_count": 13,
      "outputs": [
        {
          "output_type": "execute_result",
          "data": {
            "text/plain": [
              "(418, 2)"
            ]
          },
          "metadata": {},
          "execution_count": 13
        }
      ]
    },
    {
      "cell_type": "code",
      "source": [],
      "metadata": {
        "id": "yjfHasyX6OPe"
      },
      "execution_count": 13,
      "outputs": []
    }
  ]
}